{
 "cells": [
  {
   "cell_type": "code",
   "execution_count": 1,
   "metadata": {},
   "outputs": [],
   "source": [
    "import numpy as np\n",
    "import math"
   ]
  },
  {
   "cell_type": "code",
   "execution_count": 2,
   "metadata": {},
   "outputs": [],
   "source": [
    "def sphere(x):\n",
    "    \"\"\"\n",
    "        Sphere function - a simple test function for optimization\n",
    "        f(x) = sum(x_i^2)\n",
    "        Global minimum: f(0,...,0) = 0\n",
    "    \"\"\"\n",
    "    return np.sum(x**2)\n",
    "\n",
    "def fitness(x, func):\n",
    "    \"\"\"\n",
    "        Calculates the fitness value for a solution using the given function\n",
    "    \"\"\"\n",
    "    return func(x)"
   ]
  },
  {
   "cell_type": "code",
   "execution_count": 3,
   "metadata": {},
   "outputs": [],
   "source": [
    "def init_pop(pop_size, nr_dim, bounds):\n",
    "    \"\"\"\n",
    "        Initialize population with random solutions within the given bounds\n",
    "    \"\"\"\n",
    "    return np.random.uniform(bounds[0], bounds[1], size=(pop_size, nr_dim))"
   ]
  },
  {
   "cell_type": "code",
   "execution_count": 4,
   "metadata": {},
   "outputs": [],
   "source": [
    "def woa(pop_size: int, spiral_shape_const: float, nr_dim: int, func, bounds: tuple, nr_iter: int):\n",
    "    \"\"\"\n",
    "        Performs whale optimization algorithm to minimize the value of a given function func\n",
    "        in: \n",
    "        pop_size - int, population size\n",
    "        spiral_shape_const - float, controls the tightness of the log spiral\n",
    "        nr_dim - int, number of dimensions of the function input\n",
    "        func - function to minimize\n",
    "        bounds - tuple, bounds of the values of the function\n",
    "        nr_iter - int, maximum number of iterations\n",
    "    \"\"\"\n",
    "    curr_pop = init_pop(pop_size, nr_dim, bounds)\n",
    "    a = 2\n",
    "    global_best = min(curr_pop, key=lambda x : fitness(x, func))\n",
    "    global_best_fitness = fitness(global_best, func)\n",
    "\n",
    "    for i in range(nr_iter):\n",
    "        a -= 2 * i / nr_iter\n",
    "\n",
    "        for j in range(pop_size):\n",
    "            whale = curr_pop[j]\n",
    "\n",
    "            r1 = np.random.uniform(0, 1)\n",
    "            r2 = np.random.uniform(0, 1)\n",
    "\n",
    "            A = 2 * a * r1 - a\n",
    "            C = 2 * r2\n",
    "\n",
    "            if np.random.uniform(0, 1) < 0.5:\n",
    "                if abs(A) < 1:\n",
    "                    D = np.abs(C * global_best - whale)\n",
    "                    whale = global_best - A * D\n",
    "                else:\n",
    "                    random_whale = curr_pop[np.random.randint(0, pop_size)]\n",
    "                    D = np.abs(C * random_whale - whale)\n",
    "                    whale = random_whale - A * D\n",
    "            else:\n",
    "                D = np.abs(global_best - whale)\n",
    "                spiral_param = np.random.uniform(-1, 1)\n",
    "                whale = D * math.exp(spiral_shape_const * spiral_param) * math.cos(2 * math.pi * spiral_param) + global_best\n",
    "\n",
    "            whale = np.clip(whale, bounds[0], bounds[1])\n",
    "            whale_fitness = fitness(whale, func)\n",
    "\n",
    "            if whale_fitness < global_best_fitness:\n",
    "                global_best = whale\n",
    "                global_best_fitness = whale_fitness\n",
    "\n",
    "            curr_pop[j] = whale\n",
    "\n",
    "    return global_best, global_best_fitness"
   ]
  },
  {
   "cell_type": "code",
   "execution_count": 5,
   "metadata": {},
   "outputs": [
    {
     "name": "stdout",
     "output_type": "stream",
     "text": [
      "Best solution found: [-4.86582097e-07  2.82529007e-07]\n",
      "Best fitness value: 3.1658477695505787e-13\n"
     ]
    }
   ],
   "source": [
    "pop_size = 30\n",
    "spiral_const = 1.0\n",
    "dimensions = 2\n",
    "bounds = (-5, 5)\n",
    "iterations = 100\n",
    "\n",
    "best_solution, best_fitness = woa(\n",
    "    pop_size=pop_size,\n",
    "    spiral_shape_const=spiral_const,\n",
    "    nr_dim=dimensions,\n",
    "    func=sphere,\n",
    "    bounds=bounds,\n",
    "    nr_iter=iterations\n",
    ")\n",
    "\n",
    "print(f\"Best solution found: {best_solution}\")\n",
    "print(f\"Best fitness value: {best_fitness}\")"
   ]
  }
 ],
 "metadata": {
  "kernelspec": {
   "display_name": "Python 3",
   "language": "python",
   "name": "python3"
  },
  "language_info": {
   "codemirror_mode": {
    "name": "ipython",
    "version": 3
   },
   "file_extension": ".py",
   "mimetype": "text/x-python",
   "name": "python",
   "nbconvert_exporter": "python",
   "pygments_lexer": "ipython3",
   "version": "3.12.6"
  }
 },
 "nbformat": 4,
 "nbformat_minor": 2
}
